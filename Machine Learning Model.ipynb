{
  "cells": [
    {
      "cell_type": "markdown",
      "source": [
        "##**The Intern plus Nerd (AIML Internship)**"
      ],
      "metadata": {
        "id": "hfd_yUAL9wlO"
      }
    },
    {
      "cell_type": "markdown",
      "metadata": {
        "id": "QfoYSa0TPHrf"
      },
      "source": [
        "# Machine Learning Workflow on Diabetes Data"
      ]
    },
    {
      "cell_type": "code",
      "execution_count": null,
      "metadata": {
        "id": "8AiHkDY6PHrn"
      },
      "outputs": [],
      "source": [
        "%matplotlib inline\n",
        "import pandas as pd\n",
        "import numpy as np\n",
        "import matplotlib.pyplot as plt\n",
        "import seaborn as sns"
      ]
    },
    {
      "cell_type": "markdown",
      "metadata": {
        "id": "qRoulyz8PHrr"
      },
      "source": [
        "## Phase 1 -  Data Exploration"
      ]
    },
    {
      "cell_type": "code",
      "execution_count": null,
      "metadata": {
        "colab": {
          "base_uri": "https://localhost:8080/"
        },
        "id": "818rGYAHPHrs",
        "outputId": "54695f64-84bf-4e19-865e-83b4a407f75e"
      },
      "outputs": [
        {
          "output_type": "stream",
          "name": "stdout",
          "text": [
            "Index(['pregnancies', 'glucose', 'diastolic', 'triceps', 'insulin', 'bmi',\n",
            "       'dpf', 'age', 'diabetes'],\n",
            "      dtype='object')\n"
          ]
        }
      ],
      "source": [
        "diabetes = pd.read_csv('https://raw.githubusercontent.com/Yantra-Byte/Dataset/main/Diabetes.csv')\n",
        "print(diabetes.columns)"
      ]
    },
    {
      "cell_type": "code",
      "source": [
        "diabetes.rename(columns = {'pregnancies':'Pregnancies', 'glucose':'Glucose', 'diastolic':'BloodPressure',\n",
        "                     'triceps':'SkinThickness',\t'insulin':'Insulin', 'bmi':'BMI', 'dpf':'DiabetesPedigreeFunction', 'age':'Age',\n",
        "                     'diabetes':'Outcome'},inplace = True)"
      ],
      "metadata": {
        "id": "Ov-pU59nPed7"
      },
      "execution_count": null,
      "outputs": []
    },
    {
      "cell_type": "code",
      "execution_count": null,
      "metadata": {
        "colab": {
          "base_uri": "https://localhost:8080/",
          "height": 206
        },
        "id": "G7xWTZonPHru",
        "outputId": "6e50e20c-c094-4b62-f635-a35e275984e9"
      },
      "outputs": [
        {
          "output_type": "execute_result",
          "data": {
            "text/html": [
              "\n",
              "  <div id=\"df-22c5707d-5fee-4fda-b857-f72574a5ef24\">\n",
              "    <div class=\"colab-df-container\">\n",
              "      <div>\n",
              "<style scoped>\n",
              "    .dataframe tbody tr th:only-of-type {\n",
              "        vertical-align: middle;\n",
              "    }\n",
              "\n",
              "    .dataframe tbody tr th {\n",
              "        vertical-align: top;\n",
              "    }\n",
              "\n",
              "    .dataframe thead th {\n",
              "        text-align: right;\n",
              "    }\n",
              "</style>\n",
              "<table border=\"1\" class=\"dataframe\">\n",
              "  <thead>\n",
              "    <tr style=\"text-align: right;\">\n",
              "      <th></th>\n",
              "      <th>Pregnancies</th>\n",
              "      <th>Glucose</th>\n",
              "      <th>BloodPressure</th>\n",
              "      <th>SkinThickness</th>\n",
              "      <th>Insulin</th>\n",
              "      <th>BMI</th>\n",
              "      <th>DiabetesPedigreeFunction</th>\n",
              "      <th>Age</th>\n",
              "      <th>Outcome</th>\n",
              "    </tr>\n",
              "  </thead>\n",
              "  <tbody>\n",
              "    <tr>\n",
              "      <th>0</th>\n",
              "      <td>6</td>\n",
              "      <td>148</td>\n",
              "      <td>72</td>\n",
              "      <td>35</td>\n",
              "      <td>0</td>\n",
              "      <td>33.6</td>\n",
              "      <td>0.627</td>\n",
              "      <td>50</td>\n",
              "      <td>1</td>\n",
              "    </tr>\n",
              "    <tr>\n",
              "      <th>1</th>\n",
              "      <td>1</td>\n",
              "      <td>85</td>\n",
              "      <td>66</td>\n",
              "      <td>29</td>\n",
              "      <td>0</td>\n",
              "      <td>26.6</td>\n",
              "      <td>0.351</td>\n",
              "      <td>31</td>\n",
              "      <td>0</td>\n",
              "    </tr>\n",
              "    <tr>\n",
              "      <th>2</th>\n",
              "      <td>8</td>\n",
              "      <td>183</td>\n",
              "      <td>64</td>\n",
              "      <td>0</td>\n",
              "      <td>0</td>\n",
              "      <td>23.3</td>\n",
              "      <td>0.672</td>\n",
              "      <td>32</td>\n",
              "      <td>1</td>\n",
              "    </tr>\n",
              "    <tr>\n",
              "      <th>3</th>\n",
              "      <td>1</td>\n",
              "      <td>89</td>\n",
              "      <td>66</td>\n",
              "      <td>23</td>\n",
              "      <td>94</td>\n",
              "      <td>28.1</td>\n",
              "      <td>0.167</td>\n",
              "      <td>21</td>\n",
              "      <td>0</td>\n",
              "    </tr>\n",
              "    <tr>\n",
              "      <th>4</th>\n",
              "      <td>0</td>\n",
              "      <td>137</td>\n",
              "      <td>40</td>\n",
              "      <td>35</td>\n",
              "      <td>168</td>\n",
              "      <td>43.1</td>\n",
              "      <td>2.288</td>\n",
              "      <td>33</td>\n",
              "      <td>1</td>\n",
              "    </tr>\n",
              "  </tbody>\n",
              "</table>\n",
              "</div>\n",
              "      <button class=\"colab-df-convert\" onclick=\"convertToInteractive('df-22c5707d-5fee-4fda-b857-f72574a5ef24')\"\n",
              "              title=\"Convert this dataframe to an interactive table.\"\n",
              "              style=\"display:none;\">\n",
              "        \n",
              "  <svg xmlns=\"http://www.w3.org/2000/svg\" height=\"24px\"viewBox=\"0 0 24 24\"\n",
              "       width=\"24px\">\n",
              "    <path d=\"M0 0h24v24H0V0z\" fill=\"none\"/>\n",
              "    <path d=\"M18.56 5.44l.94 2.06.94-2.06 2.06-.94-2.06-.94-.94-2.06-.94 2.06-2.06.94zm-11 1L8.5 8.5l.94-2.06 2.06-.94-2.06-.94L8.5 2.5l-.94 2.06-2.06.94zm10 10l.94 2.06.94-2.06 2.06-.94-2.06-.94-.94-2.06-.94 2.06-2.06.94z\"/><path d=\"M17.41 7.96l-1.37-1.37c-.4-.4-.92-.59-1.43-.59-.52 0-1.04.2-1.43.59L10.3 9.45l-7.72 7.72c-.78.78-.78 2.05 0 2.83L4 21.41c.39.39.9.59 1.41.59.51 0 1.02-.2 1.41-.59l7.78-7.78 2.81-2.81c.8-.78.8-2.07 0-2.86zM5.41 20L4 18.59l7.72-7.72 1.47 1.35L5.41 20z\"/>\n",
              "  </svg>\n",
              "      </button>\n",
              "      \n",
              "  <style>\n",
              "    .colab-df-container {\n",
              "      display:flex;\n",
              "      flex-wrap:wrap;\n",
              "      gap: 12px;\n",
              "    }\n",
              "\n",
              "    .colab-df-convert {\n",
              "      background-color: #E8F0FE;\n",
              "      border: none;\n",
              "      border-radius: 50%;\n",
              "      cursor: pointer;\n",
              "      display: none;\n",
              "      fill: #1967D2;\n",
              "      height: 32px;\n",
              "      padding: 0 0 0 0;\n",
              "      width: 32px;\n",
              "    }\n",
              "\n",
              "    .colab-df-convert:hover {\n",
              "      background-color: #E2EBFA;\n",
              "      box-shadow: 0px 1px 2px rgba(60, 64, 67, 0.3), 0px 1px 3px 1px rgba(60, 64, 67, 0.15);\n",
              "      fill: #174EA6;\n",
              "    }\n",
              "\n",
              "    [theme=dark] .colab-df-convert {\n",
              "      background-color: #3B4455;\n",
              "      fill: #D2E3FC;\n",
              "    }\n",
              "\n",
              "    [theme=dark] .colab-df-convert:hover {\n",
              "      background-color: #434B5C;\n",
              "      box-shadow: 0px 1px 3px 1px rgba(0, 0, 0, 0.15);\n",
              "      filter: drop-shadow(0px 1px 2px rgba(0, 0, 0, 0.3));\n",
              "      fill: #FFFFFF;\n",
              "    }\n",
              "  </style>\n",
              "\n",
              "      <script>\n",
              "        const buttonEl =\n",
              "          document.querySelector('#df-22c5707d-5fee-4fda-b857-f72574a5ef24 button.colab-df-convert');\n",
              "        buttonEl.style.display =\n",
              "          google.colab.kernel.accessAllowed ? 'block' : 'none';\n",
              "\n",
              "        async function convertToInteractive(key) {\n",
              "          const element = document.querySelector('#df-22c5707d-5fee-4fda-b857-f72574a5ef24');\n",
              "          const dataTable =\n",
              "            await google.colab.kernel.invokeFunction('convertToInteractive',\n",
              "                                                     [key], {});\n",
              "          if (!dataTable) return;\n",
              "\n",
              "          const docLinkHtml = 'Like what you see? Visit the ' +\n",
              "            '<a target=\"_blank\" href=https://colab.research.google.com/notebooks/data_table.ipynb>data table notebook</a>'\n",
              "            + ' to learn more about interactive tables.';\n",
              "          element.innerHTML = '';\n",
              "          dataTable['output_type'] = 'display_data';\n",
              "          await google.colab.output.renderOutput(dataTable, element);\n",
              "          const docLink = document.createElement('div');\n",
              "          docLink.innerHTML = docLinkHtml;\n",
              "          element.appendChild(docLink);\n",
              "        }\n",
              "      </script>\n",
              "    </div>\n",
              "  </div>\n",
              "  "
            ],
            "text/plain": [
              "   Pregnancies  Glucose  BloodPressure  ...  DiabetesPedigreeFunction  Age  Outcome\n",
              "0            6      148             72  ...                     0.627   50        1\n",
              "1            1       85             66  ...                     0.351   31        0\n",
              "2            8      183             64  ...                     0.672   32        1\n",
              "3            1       89             66  ...                     0.167   21        0\n",
              "4            0      137             40  ...                     2.288   33        1\n",
              "\n",
              "[5 rows x 9 columns]"
            ]
          },
          "metadata": {},
          "execution_count": 140
        }
      ],
      "source": [
        "diabetes.head()"
      ]
    },
    {
      "cell_type": "code",
      "execution_count": null,
      "metadata": {
        "colab": {
          "base_uri": "https://localhost:8080/"
        },
        "id": "3661sc9sPHrv",
        "outputId": "8d064dce-ea08-4ecf-aae0-c3f984c04c20"
      },
      "outputs": [
        {
          "output_type": "stream",
          "name": "stdout",
          "text": [
            "Diabetes data set dimensions : (768, 9)\n"
          ]
        }
      ],
      "source": [
        "print(\"Diabetes data set dimensions : {}\".format(diabetes.shape))"
      ]
    },
    {
      "cell_type": "code",
      "execution_count": null,
      "metadata": {
        "colab": {
          "base_uri": "https://localhost:8080/"
        },
        "id": "3JJpXI4fPHrw",
        "outputId": "e54c8803-905e-4f84-813f-f989a1ef037d"
      },
      "outputs": [
        {
          "output_type": "execute_result",
          "data": {
            "text/plain": [
              "Outcome\n",
              "0    500\n",
              "1    268\n",
              "dtype: int64"
            ]
          },
          "metadata": {},
          "execution_count": 142
        }
      ],
      "source": [
        "diabetes.groupby('Outcome').size()"
      ]
    },
    {
      "cell_type": "code",
      "execution_count": null,
      "metadata": {
        "colab": {
          "base_uri": "https://localhost:8080/",
          "height": 726
        },
        "id": "JrIpORT3PHrx",
        "outputId": "53939d24-b03b-4d98-d6da-a872b30ba91f"
      },
      "outputs": [
        {
          "output_type": "execute_result",
          "data": {
            "text/plain": [
              "array([[<matplotlib.axes._subplots.AxesSubplot object at 0x7f44f1218750>,\n",
              "        <matplotlib.axes._subplots.AxesSubplot object at 0x7f44f120cb90>,\n",
              "        <matplotlib.axes._subplots.AxesSubplot object at 0x7f44f11db7d0>],\n",
              "       [<matplotlib.axes._subplots.AxesSubplot object at 0x7f44f118dd10>,\n",
              "        <matplotlib.axes._subplots.AxesSubplot object at 0x7f44f114e190>,\n",
              "        <matplotlib.axes._subplots.AxesSubplot object at 0x7f44f1106690>],\n",
              "       [<matplotlib.axes._subplots.AxesSubplot object at 0x7f44f10bbb90>,\n",
              "        <matplotlib.axes._subplots.AxesSubplot object at 0x7f44f107ae10>,\n",
              "        <matplotlib.axes._subplots.AxesSubplot object at 0x7f44f107a0d0>]],\n",
              "      dtype=object)"
            ]
          },
          "metadata": {},
          "execution_count": 143
        },
        {
          "output_type": "display_data",
          "data": {
            "image/png": "[encoded data removed]",
            "text/plain": [
              "<Figure size 648x648 with 9 Axes>"
            ]
          },
          "metadata": {
            "needs_background": "light"
          }
        }
      ],
      "source": [
        "diabetes.hist(figsize=(9, 9))"
      ]
    },
    {
      "cell_type": "code",
      "execution_count": null,
      "metadata": {
        "colab": {
          "base_uri": "https://localhost:8080/",
          "height": 1000
        },
        "id": "qqBBCbE2PHry",
        "outputId": "1109078b-19b1-4f5b-904d-2d90e6241b03"
      },
      "outputs": [
        {
          "output_type": "execute_result",
          "data": {
            "text/plain": [
              "Outcome\n",
              "0    [[AxesSubplot(0.125,0.670278;0.215278x0.209722...\n",
              "1    [[AxesSubplot(0.125,0.670278;0.215278x0.209722...\n",
              "dtype: object"
            ]
          },
          "metadata": {},
          "execution_count": 144
        },
        {
          "output_type": "display_data",
          "data": {
            "image/png": "[encoded data removed]",
            "text/plain": [
              "<Figure size 648x648 with 9 Axes>"
            ]
          },
          "metadata": {
            "needs_background": "light"
          }
        },
        {
          "output_type": "display_data",
          "data": {
            "image/png": "[encoded data removed]",
            "text/plain": [
              "<Figure size 648x648 with 9 Axes>"
            ]
          },
          "metadata": {
            "needs_background": "light"
          }
        }
      ],
      "source": [
        "diabetes.groupby('Outcome').hist(figsize=(9, 9))"
      ]
    },
    {
      "cell_type": "markdown",
      "metadata": {
        "collapsed": true,
        "id": "L6t4RyEuPHrz"
      },
      "source": [
        "## Phase 2 - Data Cleaning"
      ]
    },
    {
      "cell_type": "markdown",
      "metadata": {
        "id": "T5RUMlrnPHr0"
      },
      "source": [
        "### Missing or Null Data points"
      ]
    },
    {
      "cell_type": "code",
      "execution_count": null,
      "metadata": {
        "colab": {
          "base_uri": "https://localhost:8080/"
        },
        "id": "rnu9C2s4PHr0",
        "outputId": "18914793-a1a3-4926-99fd-8c70584d4d0d"
      },
      "outputs": [
        {
          "output_type": "execute_result",
          "data": {
            "text/plain": [
              "Pregnancies                 0\n",
              "Glucose                     0\n",
              "BloodPressure               0\n",
              "SkinThickness               0\n",
              "Insulin                     0\n",
              "BMI                         0\n",
              "DiabetesPedigreeFunction    0\n",
              "Age                         0\n",
              "Outcome                     0\n",
              "dtype: int64"
            ]
          },
          "metadata": {},
          "execution_count": 145
        }
      ],
      "source": [
        "diabetes.isnull().sum()"
      ]
    },
    {
      "cell_type": "code",
      "execution_count": null,
      "metadata": {
        "colab": {
          "base_uri": "https://localhost:8080/"
        },
        "id": "ERGXlR3wPHr1",
        "outputId": "94a0cf19-a444-48dd-d972-db2eb0715d93"
      },
      "outputs": [
        {
          "output_type": "execute_result",
          "data": {
            "text/plain": [
              "Pregnancies                 0\n",
              "Glucose                     0\n",
              "BloodPressure               0\n",
              "SkinThickness               0\n",
              "Insulin                     0\n",
              "BMI                         0\n",
              "DiabetesPedigreeFunction    0\n",
              "Age                         0\n",
              "Outcome                     0\n",
              "dtype: int64"
            ]
          },
          "metadata": {},
          "execution_count": 146
        }
      ],
      "source": [
        "diabetes.isna().sum()"
      ]
    },
    {
      "cell_type": "markdown",
      "metadata": {
        "id": "4OLw5mACPHr2"
      },
      "source": [
        "### Unexpected Outliers"
      ]
    },
    {
      "cell_type": "code",
      "execution_count": null,
      "metadata": {
        "colab": {
          "base_uri": "https://localhost:8080/"
        },
        "id": "I8b4PmuJPHr2",
        "outputId": "9dd52fef-fd5b-4ae8-df1a-0a1b47d5bd70"
      },
      "outputs": [
        {
          "output_type": "stream",
          "name": "stdout",
          "text": [
            "Total :  35\n",
            "Outcome\n",
            "0    19\n",
            "1    16\n",
            "Name: Age, dtype: int64\n"
          ]
        }
      ],
      "source": [
        "print(\"Total : \", diabetes[diabetes.BloodPressure == 0].shape[0])\n",
        "print(diabetes[diabetes.BloodPressure == 0].groupby('Outcome')['Age'].count())"
      ]
    },
    {
      "cell_type": "code",
      "execution_count": null,
      "metadata": {
        "colab": {
          "base_uri": "https://localhost:8080/"
        },
        "id": "igr-VHa0PHr3",
        "outputId": "082f85e7-da1f-4cd6-d526-a31149bd2b5b"
      },
      "outputs": [
        {
          "output_type": "stream",
          "name": "stdout",
          "text": [
            "Total :  5\n",
            "Outcome\n",
            "0    3\n",
            "1    2\n",
            "Name: Age, dtype: int64\n"
          ]
        }
      ],
      "source": [
        "print(\"Total : \", diabetes[diabetes.Glucose == 0].shape[0])\n",
        "print(diabetes[diabetes.Glucose == 0].groupby('Outcome')['Age'].count())"
      ]
    },
    {
      "cell_type": "code",
      "execution_count": null,
      "metadata": {
        "colab": {
          "base_uri": "https://localhost:8080/"
        },
        "id": "_X0-v4uYPHr4",
        "outputId": "1ea8fa7e-364b-410f-b493-568fa4d20f13"
      },
      "outputs": [
        {
          "output_type": "stream",
          "name": "stdout",
          "text": [
            "Total :  227\n",
            "Outcome\n",
            "0    139\n",
            "1     88\n",
            "Name: Age, dtype: int64\n"
          ]
        }
      ],
      "source": [
        "print(\"Total : \", diabetes[diabetes.SkinThickness == 0].shape[0])\n",
        "print(diabetes[diabetes.SkinThickness == 0].groupby('Outcome')['Age'].count())"
      ]
    },
    {
      "cell_type": "code",
      "execution_count": null,
      "metadata": {
        "colab": {
          "base_uri": "https://localhost:8080/"
        },
        "id": "kW24A7UzPHr4",
        "outputId": "c18f3106-69aa-4823-8589-8d7cb44be60f"
      },
      "outputs": [
        {
          "output_type": "stream",
          "name": "stdout",
          "text": [
            "Total :  11\n",
            "Outcome\n",
            "0    9\n",
            "1    2\n",
            "Name: Age, dtype: int64\n"
          ]
        }
      ],
      "source": [
        "print(\"Total : \", diabetes[diabetes.BMI == 0].shape[0])\n",
        "print(diabetes[diabetes.BMI == 0].groupby('Outcome')['Age'].count())"
      ]
    },
    {
      "cell_type": "code",
      "execution_count": null,
      "metadata": {
        "colab": {
          "base_uri": "https://localhost:8080/"
        },
        "id": "eUQwVxGHPHr5",
        "outputId": "b29d0dcb-7d0e-463d-9bf4-e207f28d82fa"
      },
      "outputs": [
        {
          "output_type": "stream",
          "name": "stdout",
          "text": [
            "Total :  374\n",
            "Outcome\n",
            "0    236\n",
            "1    138\n",
            "Name: Age, dtype: int64\n"
          ]
        }
      ],
      "source": [
        "print(\"Total : \", diabetes[diabetes.Insulin == 0].shape[0])\n",
        "print(diabetes[diabetes.Insulin == 0].groupby('Outcome')['Age'].count())"
      ]
    },
    {
      "cell_type": "code",
      "execution_count": null,
      "metadata": {
        "colab": {
          "base_uri": "https://localhost:8080/"
        },
        "id": "U9F4hLnIPHr5",
        "outputId": "0b67fe98-2f79-4be2-91a2-2e4af8c88932"
      },
      "outputs": [
        {
          "output_type": "stream",
          "name": "stdout",
          "text": [
            "(724, 9)\n"
          ]
        }
      ],
      "source": [
        "diabetes_mod = diabetes[(diabetes.BloodPressure != 0) & (diabetes.BMI != 0) & (diabetes.Glucose != 0)]\n",
        "print(diabetes_mod.shape)"
      ]
    },
    {
      "cell_type": "markdown",
      "metadata": {
        "id": "YfLbn3CSPHr6"
      },
      "source": [
        "## Phase 3 - Model Selection"
      ]
    },
    {
      "cell_type": "code",
      "execution_count": null,
      "metadata": {
        "id": "W4tnUU4yPHr6"
      },
      "outputs": [],
      "source": [
        "# Features/Response\n",
        "feature_names = ['Pregnancies', 'Glucose', 'BloodPressure', 'SkinThickness', 'Insulin', 'BMI', 'DiabetesPedigreeFunction', 'Age']\n",
        "X = diabetes_mod[feature_names]\n",
        "y = diabetes_mod.Outcome"
      ]
    },
    {
      "cell_type": "markdown",
      "metadata": {
        "id": "LHxp8VlLPHr7"
      },
      "source": [
        "## Phase 4 - Model Selection"
      ]
    },
    {
      "cell_type": "code",
      "execution_count": null,
      "metadata": {
        "id": "07xYvrVXPHr7"
      },
      "outputs": [],
      "source": [
        "from sklearn.neighbors import KNeighborsClassifier\n",
        "from sklearn.svm import SVC\n",
        "from sklearn.linear_model import LogisticRegression\n",
        "from sklearn.tree import DecisionTreeClassifier\n",
        "from sklearn.naive_bayes import GaussianNB\n",
        "from sklearn.ensemble import RandomForestClassifier\n",
        "from sklearn.ensemble import GradientBoostingClassifier\n",
        "\n",
        "from sklearn.model_selection import train_test_split\n",
        "from sklearn.model_selection import cross_val_score\n",
        "from sklearn.model_selection import StratifiedKFold\n",
        "from sklearn.metrics import accuracy_score"
      ]
    },
    {
      "cell_type": "code",
      "execution_count": null,
      "metadata": {
        "id": "1PEXOWyRPHr8"
      },
      "outputs": [],
      "source": [
        "# Initial model selection process\n",
        "models = []\n",
        "\n",
        "models.append(('KNN', KNeighborsClassifier()))\n",
        "models.append(('SVC', SVC(gamma='scale')))\n",
        "models.append(('LR', LogisticRegression(solver='lbfgs', max_iter=4000)))\n",
        "models.append(('DT', DecisionTreeClassifier()))\n",
        "models.append(('GNB', GaussianNB()))\n",
        "models.append(('RF', RandomForestClassifier(n_estimators=100)))\n",
        "models.append(('GB', GradientBoostingClassifier()))"
      ]
    },
    {
      "cell_type": "markdown",
      "metadata": {
        "id": "uYd9Y3JCPHr8"
      },
      "source": [
        "### Using Train/Test split"
      ]
    },
    {
      "cell_type": "code",
      "execution_count": null,
      "metadata": {
        "id": "wT8o1qRnPHr9"
      },
      "outputs": [],
      "source": [
        "# Train/Test split\n",
        "X_train, X_test, y_train, y_test = train_test_split(X, y, stratify = diabetes_mod.Outcome, random_state=0)"
      ]
    },
    {
      "cell_type": "code",
      "execution_count": null,
      "metadata": {
        "colab": {
          "base_uri": "https://localhost:8080/"
        },
        "id": "bq6QsNP8PHr9",
        "outputId": "5581712c-0f9a-461d-c269-4818b2a0a65c"
      },
      "outputs": [
        {
          "output_type": "stream",
          "name": "stdout",
          "text": [
            "  Name     Score\n",
            "0  KNN  0.729282\n",
            "1  SVC  0.740331\n",
            "2   LR  0.779006\n",
            "3   DT  0.729282\n",
            "4  GNB  0.734807\n",
            "5   RF  0.784530\n",
            "6   GB  0.773481\n"
          ]
        }
      ],
      "source": [
        "names = []\n",
        "scores = []\n",
        "\n",
        "for name, model in models:\n",
        "    model.fit(X_train, y_train)\n",
        "    y_pred = model.predict(X_test)\n",
        "    scores.append(accuracy_score(y_test, y_pred))\n",
        "    names.append(name)\n",
        "\n",
        "tr_split = pd.DataFrame({'Name': names, 'Score': scores})\n",
        "print(tr_split)"
      ]
    },
    {
      "cell_type": "markdown",
      "metadata": {
        "id": "hq00_mlZPHr-"
      },
      "source": [
        "### Using K-Fold cross validation"
      ]
    },
    {
      "cell_type": "code",
      "execution_count": null,
      "metadata": {
        "scrolled": true,
        "colab": {
          "base_uri": "https://localhost:8080/"
        },
        "id": "u55MpfuAPHr_",
        "outputId": "9df0d5ba-1ab9-4ad0-98d7-2c3b34e48dab"
      },
      "outputs": [
        {
          "output_type": "stream",
          "name": "stdout",
          "text": [
            "  Name     Score\n",
            "0  KNN  0.691990\n",
            "1  SVC  0.756944\n",
            "2   LR  0.777588\n",
            "3   DT  0.688033\n",
            "4  GNB  0.758333\n",
            "5   RF  0.773364\n",
            "6   GB  0.758276\n"
          ]
        }
      ],
      "source": [
        "strat_k_fold = StratifiedKFold(n_splits=10, shuffle=True)\n",
        "\n",
        "names = []\n",
        "scores = []\n",
        "\n",
        "for name, model in models:\n",
        "  score = cross_val_score(model, X, y, cv=strat_k_fold, scoring='accuracy').mean()\n",
        "  names.append(name)\n",
        "  scores.append(score)\n",
        "\n",
        "kf_cross_val = pd.DataFrame({'Name': names, 'Score': scores})\n",
        "print(kf_cross_val)"
      ]
    },
    {
      "cell_type": "code",
      "execution_count": null,
      "metadata": {
        "colab": {
          "base_uri": "https://localhost:8080/",
          "height": 279
        },
        "id": "7RvpCD1cPHr_",
        "outputId": "3cbc315e-7150-4b8f-b31a-934f11c97e75"
      },
      "outputs": [
        {
          "output_type": "display_data",
          "data": {
            "image/png": "[encoded data removed]",
            "text/plain": [
              "<Figure size 432x288 with 1 Axes>"
            ]
          },
          "metadata": {
            "needs_background": "light"
          }
        }
      ],
      "source": [
        "axis = sns.barplot(x = 'Name', y = 'Score', data = kf_cross_val)\n",
        "axis.set(xlabel='Classifier', ylabel='Accuracy')\n",
        "\n",
        "for p in axis.patches:\n",
        "    height = p.get_height()\n",
        "    axis.text(p.get_x() + p.get_width()/2, height + 0.005, '{:1.4f}'.format(height), ha=\"center\") \n",
        "    \n",
        "plt.show()"
      ]
    },
    {
      "cell_type": "markdown",
      "metadata": {
        "id": "JmaVUsMKPHsA"
      },
      "source": [
        "## Phase 5 - Feature Selection (Revisited)"
      ]
    },
    {
      "cell_type": "code",
      "execution_count": null,
      "metadata": {
        "id": "g_GeJMrxPHsA"
      },
      "outputs": [],
      "source": [
        "from sklearn.feature_selection import RFECV"
      ]
    },
    {
      "cell_type": "markdown",
      "metadata": {
        "id": "vBVSonOdPHsA"
      },
      "source": [
        "### Logistic Regression"
      ]
    },
    {
      "cell_type": "code",
      "execution_count": null,
      "metadata": {
        "colab": {
          "base_uri": "https://localhost:8080/",
          "height": 389
        },
        "id": "eRZvT-X9PHsB",
        "outputId": "0ce2751e-6d5c-44e5-fd22-ad5e6bb6edd2"
      },
      "outputs": [
        {
          "output_type": "stream",
          "name": "stderr",
          "text": [
            "/usr/local/lib/python3.7/dist-packages/sklearn/base.py:446: UserWarning: X does not have valid feature names, but RFECV was fitted with feature names\n",
            "  \"X does not have valid feature names, but\"\n",
            "/usr/local/lib/python3.7/dist-packages/sklearn/utils/deprecation.py:103: FutureWarning: The `grid_scores_` attribute is deprecated in version 1.0 in favor of `cv_results_` and will be removed in version 1.2.\n",
            "  warnings.warn(msg, category=FutureWarning)\n"
          ]
        },
        {
          "output_type": "display_data",
          "data": {
            "image/png": "[encoded data removed]",
            "text/plain": [
              "<Figure size 432x288 with 1 Axes>"
            ]
          },
          "metadata": {
            "needs_background": "light"
          }
        }
      ],
      "source": [
        "logreg_model = LogisticRegression(solver='lbfgs', max_iter=4000)\n",
        "\n",
        "rfecv = RFECV(estimator=logreg_model, step=1, cv=strat_k_fold, scoring='accuracy')\n",
        "rfecv.fit(X, y)\n",
        "\n",
        "plt.figure()\n",
        "plt.title('Logistic Regression CV score vs No of Features')\n",
        "plt.xlabel(\"Number of features selected\")\n",
        "plt.ylabel(\"Cross validation score (nb of correct classifications)\")\n",
        "plt.plot(range(1, len(rfecv.grid_scores_) + 1), rfecv.grid_scores_)\n",
        "plt.show()"
      ]
    },
    {
      "cell_type": "code",
      "execution_count": null,
      "metadata": {
        "colab": {
          "base_uri": "https://localhost:8080/"
        },
        "id": "W58YCYrKPHsB",
        "outputId": "a6ad385c-035a-455b-cd46-97d7dda43713"
      },
      "outputs": [
        {
          "output_type": "stream",
          "name": "stdout",
          "text": [
            "['Pregnancies', 'Glucose', 'BMI', 'DiabetesPedigreeFunction', 'Age']\n"
          ]
        }
      ],
      "source": [
        "feature_importance = list(zip(feature_names, rfecv.support_))\n",
        "\n",
        "new_features = []\n",
        "\n",
        "for key,value in enumerate(feature_importance):\n",
        "    if(value[1]) == True:\n",
        "        new_features.append(value[0])\n",
        "        \n",
        "print(new_features)"
      ]
    },
    {
      "cell_type": "code",
      "execution_count": null,
      "metadata": {
        "colab": {
          "base_uri": "https://localhost:8080/"
        },
        "id": "xDrgL3iqPHsC",
        "outputId": "9c4687e8-fca7-40ad-8d78-f4f735d619ce"
      },
      "outputs": [
        {
          "output_type": "stream",
          "name": "stdout",
          "text": [
            "Initial accuracy : 0.7679223744292237 \n",
            "Accuracy after Feature Selection : 0.7745814307458143 \n"
          ]
        }
      ],
      "source": [
        "# Calculate accuracy scores \n",
        "X_new = diabetes_mod[new_features]\n",
        "\n",
        "initial_score = cross_val_score(logreg_model, X, y, cv=strat_k_fold, scoring='accuracy').mean()\n",
        "print(\"Initial accuracy : {} \".format(initial_score))\n",
        "\n",
        "fe_score = cross_val_score(logreg_model, X_new, y, cv=strat_k_fold, scoring='accuracy').mean()\n",
        "print(\"Accuracy after Feature Selection : {} \".format(fe_score))"
      ]
    },
    {
      "cell_type": "markdown",
      "metadata": {
        "id": "puNWRfS9PHsC"
      },
      "source": [
        "### Gradient Boost"
      ]
    },
    {
      "cell_type": "code",
      "execution_count": null,
      "metadata": {
        "colab": {
          "base_uri": "https://localhost:8080/",
          "height": 389
        },
        "id": "AaJadDM9PHsC",
        "outputId": "f2a298ec-d235-47b6-91bb-99095298b80a"
      },
      "outputs": [
        {
          "output_type": "stream",
          "name": "stderr",
          "text": [
            "/usr/local/lib/python3.7/dist-packages/sklearn/base.py:446: UserWarning: X does not have valid feature names, but RFECV was fitted with feature names\n",
            "  \"X does not have valid feature names, but\"\n",
            "/usr/local/lib/python3.7/dist-packages/sklearn/utils/deprecation.py:103: FutureWarning: The `grid_scores_` attribute is deprecated in version 1.0 in favor of `cv_results_` and will be removed in version 1.2.\n",
            "  warnings.warn(msg, category=FutureWarning)\n"
          ]
        },
        {
          "output_type": "display_data",
          "data": {
            "image/png": "[encoded data removed]",
            "text/plain": [
              "<Figure size 432x288 with 1 Axes>"
            ]
          },
          "metadata": {
            "needs_background": "light"
          }
        }
      ],
      "source": [
        "gb_model = GradientBoostingClassifier()\n",
        "\n",
        "gb_rfecv = RFECV(estimator=gb_model, step=1, cv=strat_k_fold, scoring='accuracy')\n",
        "gb_rfecv.fit(X, y)\n",
        "\n",
        "plt.figure()\n",
        "plt.title('Gradient Boost CV score vs No of Features')\n",
        "plt.xlabel(\"Number of features selected\")\n",
        "plt.ylabel(\"Cross validation score (nb of correct classifications)\")\n",
        "plt.plot(range(1, len(gb_rfecv.grid_scores_) + 1), gb_rfecv.grid_scores_)\n",
        "plt.show()"
      ]
    },
    {
      "cell_type": "code",
      "execution_count": null,
      "metadata": {
        "colab": {
          "base_uri": "https://localhost:8080/"
        },
        "id": "oK7-LQiNPHsD",
        "outputId": "08a5710a-eb38-4db3-e07b-299771592ef0"
      },
      "outputs": [
        {
          "output_type": "stream",
          "name": "stdout",
          "text": [
            "['Pregnancies', 'Glucose', 'BMI', 'DiabetesPedigreeFunction', 'Age']\n"
          ]
        }
      ],
      "source": [
        "feature_importance = list(zip(feature_names, gb_rfecv.support_))\n",
        "\n",
        "new_features = []\n",
        "\n",
        "for key,value in enumerate(feature_importance):\n",
        "    if(value[1]) == True:\n",
        "        new_features.append(value[0])\n",
        "        \n",
        "print(new_features)"
      ]
    },
    {
      "cell_type": "code",
      "execution_count": null,
      "metadata": {
        "colab": {
          "base_uri": "https://localhost:8080/"
        },
        "id": "cImrT9WpPHsD",
        "outputId": "45a4340f-337f-486b-b1ad-62758825384a"
      },
      "outputs": [
        {
          "output_type": "stream",
          "name": "stdout",
          "text": [
            "Initial accuracy : 0.7554984779299847 \n",
            "Accuracy after Feature Selection : 0.7690829528158295 \n"
          ]
        }
      ],
      "source": [
        "X_new_gb = diabetes_mod[new_features]\n",
        "\n",
        "initial_score = cross_val_score(gb_model, X, y, cv=strat_k_fold, scoring='accuracy').mean()\n",
        "print(\"Initial accuracy : {} \".format(initial_score))\n",
        "\n",
        "fe_score = cross_val_score(gb_model, X_new_gb, y, cv=strat_k_fold, scoring='accuracy').mean()\n",
        "print(\"Accuracy after Feature Selection : {} \".format(fe_score))"
      ]
    },
    {
      "cell_type": "markdown",
      "metadata": {
        "id": "vLWdNs5aPHsD"
      },
      "source": [
        "## Phase 6 - Model Parameter Tuning"
      ]
    },
    {
      "cell_type": "code",
      "execution_count": null,
      "metadata": {
        "id": "HMAB0Xb2PHsE"
      },
      "outputs": [],
      "source": [
        "from sklearn.model_selection import GridSearchCV"
      ]
    },
    {
      "cell_type": "code",
      "execution_count": null,
      "metadata": {
        "id": "M1gvNBp3PHsE"
      },
      "outputs": [],
      "source": [
        "# Specify parameters\n",
        "c_values = list(np.arange(1, 10))\n",
        "\n",
        "param_grid = [\n",
        "    {'C': c_values, 'penalty': ['l1'], 'solver' : ['liblinear'], 'multi_class' : ['ovr']},\n",
        "    {'C': c_values, 'penalty': ['l2'], 'solver' : ['liblinear', 'newton-cg', 'lbfgs'], 'multi_class' : ['ovr']}\n",
        "]"
      ]
    },
    {
      "cell_type": "code",
      "execution_count": null,
      "metadata": {
        "id": "YCz7MvS5PHsE",
        "colab": {
          "base_uri": "https://localhost:8080/"
        },
        "outputId": "799683f6-73b4-4c80-cc78-bbf0df633f30"
      },
      "outputs": [
        {
          "output_type": "stream",
          "name": "stdout",
          "text": [
            "{'C': 2, 'multi_class': 'ovr', 'penalty': 'l2', 'solver': 'lbfgs'}\n",
            "LogisticRegression(C=2, multi_class='ovr')\n"
          ]
        }
      ],
      "source": [
        "print(grid.best_params_)\n",
        "print(grid.best_estimator_)"
      ]
    },
    {
      "cell_type": "code",
      "execution_count": null,
      "metadata": {
        "id": "tugJpn8UPHsF"
      },
      "outputs": [],
      "source": [
        "logreg_new = LogisticRegression(C=1, multi_class='ovr', penalty='l2', solver='liblinear')"
      ]
    },
    {
      "cell_type": "code",
      "execution_count": null,
      "metadata": {
        "id": "npBf0o_VPHsF",
        "colab": {
          "base_uri": "https://localhost:8080/"
        },
        "outputId": "3fd8aad7-17f3-4d3e-c741-6bc70cf100d9"
      },
      "outputs": [
        {
          "output_type": "stream",
          "name": "stdout",
          "text": [
            "Final accuracy : 0.7734208523592085 \n"
          ]
        }
      ],
      "source": [
        "initial_score = cross_val_score(logreg_new, X_new, y, cv=strat_k_fold, scoring='accuracy').mean()\n",
        "print(\"Final accuracy : {} \".format(initial_score))"
      ]
    }
  ],
  "metadata": {
    "kernelspec": {
      "display_name": "Python 3",
      "language": "python",
      "name": "python3"
    },
    "language_info": {
      "codemirror_mode": {
        "name": "ipython",
        "version": 3
      },
      "file_extension": ".py",
      "mimetype": "text/x-python",
      "name": "python",
      "nbconvert_exporter": "python",
      "pygments_lexer": "ipython3",
      "version": "3.6.9"
    },
    "colab": {
      "name": "Machine Learning model with significant features.ipynb",
      "provenance": [],
      "collapsed_sections": []
    }
  },
  "nbformat": 4,
  "nbformat_minor": 0
}